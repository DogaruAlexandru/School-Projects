{
 "cells": [
  {
   "cell_type": "code",
   "execution_count": 112,
   "metadata": {},
   "outputs": [
    {
     "data": {
      "application/javascript": [
       "\n",
       "            setTimeout(function() {\n",
       "                var nbb_cell_id = 112;\n",
       "                var nbb_unformatted_code = \"import numpy as np\\nimport random\";\n",
       "                var nbb_formatted_code = \"import numpy as np\\nimport random\";\n",
       "                var nbb_cells = Jupyter.notebook.get_cells();\n",
       "                for (var i = 0; i < nbb_cells.length; ++i) {\n",
       "                    if (nbb_cells[i].input_prompt_number == nbb_cell_id) {\n",
       "                        if (nbb_cells[i].get_text() == nbb_unformatted_code) {\n",
       "                             nbb_cells[i].set_text(nbb_formatted_code);\n",
       "                        }\n",
       "                        break;\n",
       "                    }\n",
       "                }\n",
       "            }, 500);\n",
       "            "
      ],
      "text/plain": [
       "<IPython.core.display.Javascript object>"
      ]
     },
     "metadata": {},
     "output_type": "display_data"
    }
   ],
   "source": [
    "import numpy as np\n",
    "import random"
   ]
  },
  {
   "cell_type": "code",
   "execution_count": 61,
   "metadata": {
    "scrolled": false
   },
   "outputs": [
    {
     "data": {
      "application/javascript": [
       "\n",
       "            setTimeout(function() {\n",
       "                var nbb_cell_id = 61;\n",
       "                var nbb_unformatted_code = \"# 1. In matematica, intervalul este definit ca diferenta dintre cel mai mare si cel mai mic numar\\n# dintr-o lista. De exemplu:\\nA = (3, 5, 7, 23, 11, 42, 80)\\n# Intervalul lui A este 80 - 3 = 77\\n\\n# Creati o functie care primeste o lista si intoarce \\\":)\\\" daca intervalul listei este egal cu un alt element,\\n# sau \\\":(\\\" in caz contrar. Daca argumentul nu este o lista se intoarce \\\":/\\\". Lista nu contine duplicate.\\n# De exemplu:\\n#\\n# face_interval([1, 2, 5, 8, 3, 9]) \\u279e \\\":)\\\"\\n#\\n# face_interval([5, 2, 8, 3, 11]) \\u279e \\\":(\\\"\\n#\\n# face_interval(\\\"bruh\\\") \\u279e \\\":/\\\"\";\n",
       "                var nbb_formatted_code = \"# 1. In matematica, intervalul este definit ca diferenta dintre cel mai mare si cel mai mic numar\\n# dintr-o lista. De exemplu:\\nA = (3, 5, 7, 23, 11, 42, 80)\\n# Intervalul lui A este 80 - 3 = 77\\n\\n# Creati o functie care primeste o lista si intoarce \\\":)\\\" daca intervalul listei este egal cu un alt element,\\n# sau \\\":(\\\" in caz contrar. Daca argumentul nu este o lista se intoarce \\\":/\\\". Lista nu contine duplicate.\\n# De exemplu:\\n#\\n# face_interval([1, 2, 5, 8, 3, 9]) \\u279e \\\":)\\\"\\n#\\n# face_interval([5, 2, 8, 3, 11]) \\u279e \\\":(\\\"\\n#\\n# face_interval(\\\"bruh\\\") \\u279e \\\":/\\\"\";\n",
       "                var nbb_cells = Jupyter.notebook.get_cells();\n",
       "                for (var i = 0; i < nbb_cells.length; ++i) {\n",
       "                    if (nbb_cells[i].input_prompt_number == nbb_cell_id) {\n",
       "                        if (nbb_cells[i].get_text() == nbb_unformatted_code) {\n",
       "                             nbb_cells[i].set_text(nbb_formatted_code);\n",
       "                        }\n",
       "                        break;\n",
       "                    }\n",
       "                }\n",
       "            }, 500);\n",
       "            "
      ],
      "text/plain": [
       "<IPython.core.display.Javascript object>"
      ]
     },
     "metadata": {},
     "output_type": "display_data"
    }
   ],
   "source": [
    "# 1. In matematica, intervalul este definit ca diferenta dintre cel mai mare si cel mai mic numar\n",
    "# dintr-o lista. De exemplu:\n",
    "A = (3, 5, 7, 23, 11, 42, 80)\n",
    "# Intervalul lui A este 80 - 3 = 77\n",
    "\n",
    "# Creati o functie care primeste o lista si intoarce \":)\" daca intervalul listei este egal cu un alt element,\n",
    "# sau \":(\" in caz contrar. Daca argumentul nu este o lista se intoarce \":/\". Lista nu contine duplicate.\n",
    "# De exemplu:\n",
    "#\n",
    "# face_interval([1, 2, 5, 8, 3, 9]) ➞ \":)\"\n",
    "#\n",
    "# face_interval([5, 2, 8, 3, 11]) ➞ \":(\"\n",
    "#\n",
    "# face_interval(\"bruh\") ➞ \":/\""
   ]
  },
  {
   "cell_type": "code",
   "execution_count": 62,
   "metadata": {},
   "outputs": [
    {
     "data": {
      "application/javascript": [
       "\n",
       "            setTimeout(function() {\n",
       "                var nbb_cell_id = 62;\n",
       "                var nbb_unformatted_code = \"def face_interval(l):\\n    if type(l) is not list:\\n        return \\\":/\\\"\\n    return \\\":)\\\" if (max(l) - min(l)) in l else \\\":(\\\"\\n\\n\\nassert face_interval([1, 2, 5, 8, 3, 9]) == \\\":)\\\"\\nassert face_interval([5, 2, 8, 3, 11]) == \\\":(\\\"\\nassert face_interval(\\\"bruh\\\") == \\\":/\\\"\";\n",
       "                var nbb_formatted_code = \"def face_interval(l):\\n    if type(l) is not list:\\n        return \\\":/\\\"\\n    return \\\":)\\\" if (max(l) - min(l)) in l else \\\":(\\\"\\n\\n\\nassert face_interval([1, 2, 5, 8, 3, 9]) == \\\":)\\\"\\nassert face_interval([5, 2, 8, 3, 11]) == \\\":(\\\"\\nassert face_interval(\\\"bruh\\\") == \\\":/\\\"\";\n",
       "                var nbb_cells = Jupyter.notebook.get_cells();\n",
       "                for (var i = 0; i < nbb_cells.length; ++i) {\n",
       "                    if (nbb_cells[i].input_prompt_number == nbb_cell_id) {\n",
       "                        if (nbb_cells[i].get_text() == nbb_unformatted_code) {\n",
       "                             nbb_cells[i].set_text(nbb_formatted_code);\n",
       "                        }\n",
       "                        break;\n",
       "                    }\n",
       "                }\n",
       "            }, 500);\n",
       "            "
      ],
      "text/plain": [
       "<IPython.core.display.Javascript object>"
      ]
     },
     "metadata": {},
     "output_type": "display_data"
    }
   ],
   "source": [
    "def face_interval(l):\n",
    "    if type(l) is not list:\n",
    "        return \":/\"\n",
    "    return \":)\" if (max(l) - min(l)) in l else \":(\"\n",
    "\n",
    "\n",
    "assert face_interval([1, 2, 5, 8, 3, 9]) == \":)\"\n",
    "assert face_interval([5, 2, 8, 3, 11]) == \":(\"\n",
    "assert face_interval(\"bruh\") == \":/\""
   ]
  },
  {
   "cell_type": "code",
   "execution_count": 63,
   "metadata": {},
   "outputs": [
    {
     "data": {
      "application/javascript": [
       "\n",
       "            setTimeout(function() {\n",
       "                var nbb_cell_id = 63;\n",
       "                var nbb_unformatted_code = \"# 2. Operatorul de shiftare la dreapta e similar cu aplicarea floor la rezultatul impartirii\\n# prin puterile lui 2. De exemplu:\\n#\\n# 80 >> 3 = floor(80/2^3) = floor(80/8) = 10\\n# -24 >> 2 = floor(-24/2^2) = floor(-24/4) = -6\\n# -5 >> 1 = floor(-5/2^1) = floor(-5/2) = -3\\n\\n# Scrieti o functie care realizeaza acest lucru, fara a folosi operatorul de shift >>.\\n# Exemple:\\n\\n# shift_to_right(80, 3) \\u279e 10\\n#\\n# shift_to_right(-24, 2) \\u279e -6\\n#\\n# shift_to_right(-5, 1) \\u279e -3\\n#\\n# shift_to_right(4666, 6) \\u279e 72\\n#\\n# shift_to_right(3777, 6) \\u279e 59\\n#\\n# shift_to_right(-512, 10) \\u279e -1\\n\\n# Obs:\\n# * al doilea parametru nu poate lua valori negative;\\n# * sub nici o forma nu va veti folosi de operatorul de shift;\\n# * rezolvati problema atat recursiv cat si iterativ.\";\n",
       "                var nbb_formatted_code = \"# 2. Operatorul de shiftare la dreapta e similar cu aplicarea floor la rezultatul impartirii\\n# prin puterile lui 2. De exemplu:\\n#\\n# 80 >> 3 = floor(80/2^3) = floor(80/8) = 10\\n# -24 >> 2 = floor(-24/2^2) = floor(-24/4) = -6\\n# -5 >> 1 = floor(-5/2^1) = floor(-5/2) = -3\\n\\n# Scrieti o functie care realizeaza acest lucru, fara a folosi operatorul de shift >>.\\n# Exemple:\\n\\n# shift_to_right(80, 3) \\u279e 10\\n#\\n# shift_to_right(-24, 2) \\u279e -6\\n#\\n# shift_to_right(-5, 1) \\u279e -3\\n#\\n# shift_to_right(4666, 6) \\u279e 72\\n#\\n# shift_to_right(3777, 6) \\u279e 59\\n#\\n# shift_to_right(-512, 10) \\u279e -1\\n\\n# Obs:\\n# * al doilea parametru nu poate lua valori negative;\\n# * sub nici o forma nu va veti folosi de operatorul de shift;\\n# * rezolvati problema atat recursiv cat si iterativ.\";\n",
       "                var nbb_cells = Jupyter.notebook.get_cells();\n",
       "                for (var i = 0; i < nbb_cells.length; ++i) {\n",
       "                    if (nbb_cells[i].input_prompt_number == nbb_cell_id) {\n",
       "                        if (nbb_cells[i].get_text() == nbb_unformatted_code) {\n",
       "                             nbb_cells[i].set_text(nbb_formatted_code);\n",
       "                        }\n",
       "                        break;\n",
       "                    }\n",
       "                }\n",
       "            }, 500);\n",
       "            "
      ],
      "text/plain": [
       "<IPython.core.display.Javascript object>"
      ]
     },
     "metadata": {},
     "output_type": "display_data"
    }
   ],
   "source": [
    "# 2. Operatorul de shiftare la dreapta e similar cu aplicarea floor la rezultatul impartirii\n",
    "# prin puterile lui 2. De exemplu:\n",
    "#\n",
    "# 80 >> 3 = floor(80/2^3) = floor(80/8) = 10\n",
    "# -24 >> 2 = floor(-24/2^2) = floor(-24/4) = -6\n",
    "# -5 >> 1 = floor(-5/2^1) = floor(-5/2) = -3\n",
    "\n",
    "# Scrieti o functie care realizeaza acest lucru, fara a folosi operatorul de shift >>.\n",
    "# Exemple:\n",
    "\n",
    "# shift_to_right(80, 3) ➞ 10\n",
    "#\n",
    "# shift_to_right(-24, 2) ➞ -6\n",
    "#\n",
    "# shift_to_right(-5, 1) ➞ -3\n",
    "#\n",
    "# shift_to_right(4666, 6) ➞ 72\n",
    "#\n",
    "# shift_to_right(3777, 6) ➞ 59\n",
    "#\n",
    "# shift_to_right(-512, 10) ➞ -1\n",
    "\n",
    "# Obs:\n",
    "# * al doilea parametru nu poate lua valori negative;\n",
    "# * sub nici o forma nu va veti folosi de operatorul de shift;\n",
    "# * rezolvati problema atat recursiv cat si iterativ."
   ]
  },
  {
   "cell_type": "code",
   "execution_count": 64,
   "metadata": {},
   "outputs": [
    {
     "data": {
      "application/javascript": [
       "\n",
       "            setTimeout(function() {\n",
       "                var nbb_cell_id = 64;\n",
       "                var nbb_unformatted_code = \"import math\";\n",
       "                var nbb_formatted_code = \"import math\";\n",
       "                var nbb_cells = Jupyter.notebook.get_cells();\n",
       "                for (var i = 0; i < nbb_cells.length; ++i) {\n",
       "                    if (nbb_cells[i].input_prompt_number == nbb_cell_id) {\n",
       "                        if (nbb_cells[i].get_text() == nbb_unformatted_code) {\n",
       "                             nbb_cells[i].set_text(nbb_formatted_code);\n",
       "                        }\n",
       "                        break;\n",
       "                    }\n",
       "                }\n",
       "            }, 500);\n",
       "            "
      ],
      "text/plain": [
       "<IPython.core.display.Javascript object>"
      ]
     },
     "metadata": {},
     "output_type": "display_data"
    }
   ],
   "source": [
    "import math"
   ]
  },
  {
   "cell_type": "code",
   "execution_count": 65,
   "metadata": {},
   "outputs": [
    {
     "data": {
      "application/javascript": [
       "\n",
       "            setTimeout(function() {\n",
       "                var nbb_cell_id = 65;\n",
       "                var nbb_unformatted_code = \"def shift_to_right1(n, nr):\\n    return math.floor(n / 2 ** nr)\\n\\n\\nassert shift_to_right1(80, 3) == 10\\nassert shift_to_right1(-24, 2) == -6\\nassert shift_to_right1(-5, 1) == -3\\nassert shift_to_right1(4666, 6) == 72\\nassert shift_to_right1(3777, 6) == 59\\nassert shift_to_right1(-512, 10) == -1\";\n",
       "                var nbb_formatted_code = \"def shift_to_right1(n, nr):\\n    return math.floor(n / 2 ** nr)\\n\\n\\nassert shift_to_right1(80, 3) == 10\\nassert shift_to_right1(-24, 2) == -6\\nassert shift_to_right1(-5, 1) == -3\\nassert shift_to_right1(4666, 6) == 72\\nassert shift_to_right1(3777, 6) == 59\\nassert shift_to_right1(-512, 10) == -1\";\n",
       "                var nbb_cells = Jupyter.notebook.get_cells();\n",
       "                for (var i = 0; i < nbb_cells.length; ++i) {\n",
       "                    if (nbb_cells[i].input_prompt_number == nbb_cell_id) {\n",
       "                        if (nbb_cells[i].get_text() == nbb_unformatted_code) {\n",
       "                             nbb_cells[i].set_text(nbb_formatted_code);\n",
       "                        }\n",
       "                        break;\n",
       "                    }\n",
       "                }\n",
       "            }, 500);\n",
       "            "
      ],
      "text/plain": [
       "<IPython.core.display.Javascript object>"
      ]
     },
     "metadata": {},
     "output_type": "display_data"
    }
   ],
   "source": [
    "def shift_to_right1(n, nr):\n",
    "    return math.floor(n / 2 ** nr)\n",
    "\n",
    "\n",
    "assert shift_to_right1(80, 3) == 10\n",
    "assert shift_to_right1(-24, 2) == -6\n",
    "assert shift_to_right1(-5, 1) == -3\n",
    "assert shift_to_right1(4666, 6) == 72\n",
    "assert shift_to_right1(3777, 6) == 59\n",
    "assert shift_to_right1(-512, 10) == -1"
   ]
  },
  {
   "cell_type": "code",
   "execution_count": 66,
   "metadata": {},
   "outputs": [
    {
     "data": {
      "application/javascript": [
       "\n",
       "            setTimeout(function() {\n",
       "                var nbb_cell_id = 66;\n",
       "                var nbb_unformatted_code = \"def shift_to_right2(n, nr):\\n    x = 1\\n    for i in range(nr):\\n        x *= 2\\n    return math.floor(n / x)\\n\\n\\nassert shift_to_right2(80, 3) == 10\\nassert shift_to_right2(-24, 2) == -6\\nassert shift_to_right2(-5, 1) == -3\\nassert shift_to_right2(4666, 6) == 72\\nassert shift_to_right2(3777, 6) == 59\\nassert shift_to_right2(-512, 10) == -1\";\n",
       "                var nbb_formatted_code = \"def shift_to_right2(n, nr):\\n    x = 1\\n    for i in range(nr):\\n        x *= 2\\n    return math.floor(n / x)\\n\\n\\nassert shift_to_right2(80, 3) == 10\\nassert shift_to_right2(-24, 2) == -6\\nassert shift_to_right2(-5, 1) == -3\\nassert shift_to_right2(4666, 6) == 72\\nassert shift_to_right2(3777, 6) == 59\\nassert shift_to_right2(-512, 10) == -1\";\n",
       "                var nbb_cells = Jupyter.notebook.get_cells();\n",
       "                for (var i = 0; i < nbb_cells.length; ++i) {\n",
       "                    if (nbb_cells[i].input_prompt_number == nbb_cell_id) {\n",
       "                        if (nbb_cells[i].get_text() == nbb_unformatted_code) {\n",
       "                             nbb_cells[i].set_text(nbb_formatted_code);\n",
       "                        }\n",
       "                        break;\n",
       "                    }\n",
       "                }\n",
       "            }, 500);\n",
       "            "
      ],
      "text/plain": [
       "<IPython.core.display.Javascript object>"
      ]
     },
     "metadata": {},
     "output_type": "display_data"
    }
   ],
   "source": [
    "def shift_to_right2(n, nr):\n",
    "    x = 1\n",
    "    for i in range(nr):\n",
    "        x *= 2\n",
    "    return math.floor(n / x)\n",
    "\n",
    "\n",
    "assert shift_to_right2(80, 3) == 10\n",
    "assert shift_to_right2(-24, 2) == -6\n",
    "assert shift_to_right2(-5, 1) == -3\n",
    "assert shift_to_right2(4666, 6) == 72\n",
    "assert shift_to_right2(3777, 6) == 59\n",
    "assert shift_to_right2(-512, 10) == -1"
   ]
  },
  {
   "cell_type": "code",
   "execution_count": 67,
   "metadata": {},
   "outputs": [
    {
     "data": {
      "application/javascript": [
       "\n",
       "            setTimeout(function() {\n",
       "                var nbb_cell_id = 67;\n",
       "                var nbb_unformatted_code = \"def shift_to_right3(n, nr):\\n    if nr == 0:\\n        return math.floor(n)\\n    else:\\n        return shift_to_right3(n / 2, nr - 1)\\n\\n\\nassert shift_to_right3(80, 3) == 10\\nassert shift_to_right3(-24, 2) == -6\\nassert shift_to_right3(-5, 1) == -3\\nassert shift_to_right3(4666, 6) == 72\\nassert shift_to_right3(3777, 6) == 59\\nassert shift_to_right3(-512, 10) == -1\";\n",
       "                var nbb_formatted_code = \"def shift_to_right3(n, nr):\\n    if nr == 0:\\n        return math.floor(n)\\n    else:\\n        return shift_to_right3(n / 2, nr - 1)\\n\\n\\nassert shift_to_right3(80, 3) == 10\\nassert shift_to_right3(-24, 2) == -6\\nassert shift_to_right3(-5, 1) == -3\\nassert shift_to_right3(4666, 6) == 72\\nassert shift_to_right3(3777, 6) == 59\\nassert shift_to_right3(-512, 10) == -1\";\n",
       "                var nbb_cells = Jupyter.notebook.get_cells();\n",
       "                for (var i = 0; i < nbb_cells.length; ++i) {\n",
       "                    if (nbb_cells[i].input_prompt_number == nbb_cell_id) {\n",
       "                        if (nbb_cells[i].get_text() == nbb_unformatted_code) {\n",
       "                             nbb_cells[i].set_text(nbb_formatted_code);\n",
       "                        }\n",
       "                        break;\n",
       "                    }\n",
       "                }\n",
       "            }, 500);\n",
       "            "
      ],
      "text/plain": [
       "<IPython.core.display.Javascript object>"
      ]
     },
     "metadata": {},
     "output_type": "display_data"
    }
   ],
   "source": [
    "def shift_to_right3(n, nr):\n",
    "    if nr == 0:\n",
    "        return math.floor(n)\n",
    "    else:\n",
    "        return shift_to_right3(n / 2, nr - 1)\n",
    "\n",
    "\n",
    "assert shift_to_right3(80, 3) == 10\n",
    "assert shift_to_right3(-24, 2) == -6\n",
    "assert shift_to_right3(-5, 1) == -3\n",
    "assert shift_to_right3(4666, 6) == 72\n",
    "assert shift_to_right3(3777, 6) == 59\n",
    "assert shift_to_right3(-512, 10) == -1"
   ]
  },
  {
   "cell_type": "code",
   "execution_count": 68,
   "metadata": {},
   "outputs": [
    {
     "data": {
      "application/javascript": [
       "\n",
       "            setTimeout(function() {\n",
       "                var nbb_cell_id = 68;\n",
       "                var nbb_unformatted_code = \"# 3. Imaginati-va un cerc si doua patrate: unul mic, inscris in cerc, si unul mare, circumscris cercului.\\n# Patratele sunt presupuse a avea laturile paralele. Creati o functie care primeste un parametru intreg (raza\\n# cercului) si intoarce diferenta dintre ariile celor doua patrate. De exemplu:\\n\\n# square_areas_difference(5) \\u279e 50\\n# square_areas_difference(6) \\u279e 72\\n# square_areas_difference(7) \\u279e 98\";\n",
       "                var nbb_formatted_code = \"# 3. Imaginati-va un cerc si doua patrate: unul mic, inscris in cerc, si unul mare, circumscris cercului.\\n# Patratele sunt presupuse a avea laturile paralele. Creati o functie care primeste un parametru intreg (raza\\n# cercului) si intoarce diferenta dintre ariile celor doua patrate. De exemplu:\\n\\n# square_areas_difference(5) \\u279e 50\\n# square_areas_difference(6) \\u279e 72\\n# square_areas_difference(7) \\u279e 98\";\n",
       "                var nbb_cells = Jupyter.notebook.get_cells();\n",
       "                for (var i = 0; i < nbb_cells.length; ++i) {\n",
       "                    if (nbb_cells[i].input_prompt_number == nbb_cell_id) {\n",
       "                        if (nbb_cells[i].get_text() == nbb_unformatted_code) {\n",
       "                             nbb_cells[i].set_text(nbb_formatted_code);\n",
       "                        }\n",
       "                        break;\n",
       "                    }\n",
       "                }\n",
       "            }, 500);\n",
       "            "
      ],
      "text/plain": [
       "<IPython.core.display.Javascript object>"
      ]
     },
     "metadata": {},
     "output_type": "display_data"
    }
   ],
   "source": [
    "# 3. Imaginati-va un cerc si doua patrate: unul mic, inscris in cerc, si unul mare, circumscris cercului.\n",
    "# Patratele sunt presupuse a avea laturile paralele. Creati o functie care primeste un parametru intreg (raza\n",
    "# cercului) si intoarce diferenta dintre ariile celor doua patrate. De exemplu:\n",
    "\n",
    "# square_areas_difference(5) ➞ 50\n",
    "# square_areas_difference(6) ➞ 72\n",
    "# square_areas_difference(7) ➞ 98"
   ]
  },
  {
   "cell_type": "code",
   "execution_count": 69,
   "metadata": {},
   "outputs": [
    {
     "data": {
      "application/javascript": [
       "\n",
       "            setTimeout(function() {\n",
       "                var nbb_cell_id = 69;\n",
       "                var nbb_unformatted_code = \"# def square_areas_difference(r):\\n#     return (2 * r) ** 2 - (2 * r / math.sqrt(2)) ** 2\\n\\n\\ndef square_areas_difference(r):\\n    return 2 * r ** 2\\n\\n\\nassert square_areas_difference(5) == 50\\nassert square_areas_difference(6) == 72\\nassert square_areas_difference(7) == 98\";\n",
       "                var nbb_formatted_code = \"# def square_areas_difference(r):\\n#     return (2 * r) ** 2 - (2 * r / math.sqrt(2)) ** 2\\n\\n\\ndef square_areas_difference(r):\\n    return 2 * r ** 2\\n\\n\\nassert square_areas_difference(5) == 50\\nassert square_areas_difference(6) == 72\\nassert square_areas_difference(7) == 98\";\n",
       "                var nbb_cells = Jupyter.notebook.get_cells();\n",
       "                for (var i = 0; i < nbb_cells.length; ++i) {\n",
       "                    if (nbb_cells[i].input_prompt_number == nbb_cell_id) {\n",
       "                        if (nbb_cells[i].get_text() == nbb_unformatted_code) {\n",
       "                             nbb_cells[i].set_text(nbb_formatted_code);\n",
       "                        }\n",
       "                        break;\n",
       "                    }\n",
       "                }\n",
       "            }, 500);\n",
       "            "
      ],
      "text/plain": [
       "<IPython.core.display.Javascript object>"
      ]
     },
     "metadata": {},
     "output_type": "display_data"
    }
   ],
   "source": [
    "# def square_areas_difference(r):\n",
    "#     return (2 * r) ** 2 - (2 * r / math.sqrt(2)) ** 2\n",
    "\n",
    "\n",
    "def square_areas_difference(r):\n",
    "    return 2 * r ** 2\n",
    "\n",
    "\n",
    "assert square_areas_difference(5) == 50\n",
    "assert square_areas_difference(6) == 72\n",
    "assert square_areas_difference(7) == 98"
   ]
  },
  {
   "cell_type": "code",
   "execution_count": 70,
   "metadata": {},
   "outputs": [
    {
     "data": {
      "application/javascript": [
       "\n",
       "            setTimeout(function() {\n",
       "                var nbb_cell_id = 70;\n",
       "                var nbb_unformatted_code = \"# 4. Lucrati pentru o fabrica si e necesar sa calculati profitul total realizat din vanzarea unui produs.\\n# Aveti un dictionar care contine costul de productie, (cost_price), pretul de vanzare (sell_price)\\n# precum si numarul de bucati (inventory). Calculati profitul total realizat, rotunjit in sus la valoarea\\n# intreaga. De exemplu:\\n\\n# profit({\\n#  \\\"cost_price\\\": 32.67,\\n#  \\\"sell_price\\\": 45.00,\\n#  \\\"inventory\\\": 1200\\n# }) \\u279e 14796\\n#\\n# profit({\\n#  \\\"cost_price\\\": 225.89,\\n#  \\\"sell_price\\\": 550.00,\\n#  \\\"inventory\\\": 100\\n# }) \\u279e 32411\\n#\\n# profit({\\n#  \\\"cost_price\\\": 2.77,\\n#  \\\"sell_price\\\": 7.95,\\n#  \\\"inventory\\\": 8500\\n# }) \\u279e 44030\";\n",
       "                var nbb_formatted_code = \"# 4. Lucrati pentru o fabrica si e necesar sa calculati profitul total realizat din vanzarea unui produs.\\n# Aveti un dictionar care contine costul de productie, (cost_price), pretul de vanzare (sell_price)\\n# precum si numarul de bucati (inventory). Calculati profitul total realizat, rotunjit in sus la valoarea\\n# intreaga. De exemplu:\\n\\n# profit({\\n#  \\\"cost_price\\\": 32.67,\\n#  \\\"sell_price\\\": 45.00,\\n#  \\\"inventory\\\": 1200\\n# }) \\u279e 14796\\n#\\n# profit({\\n#  \\\"cost_price\\\": 225.89,\\n#  \\\"sell_price\\\": 550.00,\\n#  \\\"inventory\\\": 100\\n# }) \\u279e 32411\\n#\\n# profit({\\n#  \\\"cost_price\\\": 2.77,\\n#  \\\"sell_price\\\": 7.95,\\n#  \\\"inventory\\\": 8500\\n# }) \\u279e 44030\";\n",
       "                var nbb_cells = Jupyter.notebook.get_cells();\n",
       "                for (var i = 0; i < nbb_cells.length; ++i) {\n",
       "                    if (nbb_cells[i].input_prompt_number == nbb_cell_id) {\n",
       "                        if (nbb_cells[i].get_text() == nbb_unformatted_code) {\n",
       "                             nbb_cells[i].set_text(nbb_formatted_code);\n",
       "                        }\n",
       "                        break;\n",
       "                    }\n",
       "                }\n",
       "            }, 500);\n",
       "            "
      ],
      "text/plain": [
       "<IPython.core.display.Javascript object>"
      ]
     },
     "metadata": {},
     "output_type": "display_data"
    }
   ],
   "source": [
    "# 4. Lucrati pentru o fabrica si e necesar sa calculati profitul total realizat din vanzarea unui produs.\n",
    "# Aveti un dictionar care contine costul de productie, (cost_price), pretul de vanzare (sell_price)\n",
    "# precum si numarul de bucati (inventory). Calculati profitul total realizat, rotunjit in sus la valoarea\n",
    "# intreaga. De exemplu:\n",
    "\n",
    "# profit({\n",
    "#  \"cost_price\": 32.67,\n",
    "#  \"sell_price\": 45.00,\n",
    "#  \"inventory\": 1200\n",
    "# }) ➞ 14796\n",
    "#\n",
    "# profit({\n",
    "#  \"cost_price\": 225.89,\n",
    "#  \"sell_price\": 550.00,\n",
    "#  \"inventory\": 100\n",
    "# }) ➞ 32411\n",
    "#\n",
    "# profit({\n",
    "#  \"cost_price\": 2.77,\n",
    "#  \"sell_price\": 7.95,\n",
    "#  \"inventory\": 8500\n",
    "# }) ➞ 44030"
   ]
  },
  {
   "cell_type": "code",
   "execution_count": 71,
   "metadata": {},
   "outputs": [
    {
     "data": {
      "application/javascript": [
       "\n",
       "            setTimeout(function() {\n",
       "                var nbb_cell_id = 71;\n",
       "                var nbb_unformatted_code = \"def profit_value(dictionary):\\n    return math.ceil(\\n        dictionary[\\\"inventory\\\"] * (dictionary[\\\"sell_price\\\"] - dictionary[\\\"cost_price\\\"])\\n    )\\n\\n\\nassert (\\n    profit_value({\\\"cost_price\\\": 32.67, \\\"sell_price\\\": 45.00, \\\"inventory\\\": 1200}) == 14796\\n)\\nassert (\\n    profit_value({\\\"cost_price\\\": 225.89, \\\"sell_price\\\": 550.00, \\\"inventory\\\": 100})\\n    == 32411\\n)\\nassert (\\n    profit_value({\\\"cost_price\\\": 2.77, \\\"sell_price\\\": 7.95, \\\"inventory\\\": 8500}) == 44030\\n)\";\n",
       "                var nbb_formatted_code = \"def profit_value(dictionary):\\n    return math.ceil(\\n        dictionary[\\\"inventory\\\"] * (dictionary[\\\"sell_price\\\"] - dictionary[\\\"cost_price\\\"])\\n    )\\n\\n\\nassert (\\n    profit_value({\\\"cost_price\\\": 32.67, \\\"sell_price\\\": 45.00, \\\"inventory\\\": 1200}) == 14796\\n)\\nassert (\\n    profit_value({\\\"cost_price\\\": 225.89, \\\"sell_price\\\": 550.00, \\\"inventory\\\": 100})\\n    == 32411\\n)\\nassert (\\n    profit_value({\\\"cost_price\\\": 2.77, \\\"sell_price\\\": 7.95, \\\"inventory\\\": 8500}) == 44030\\n)\";\n",
       "                var nbb_cells = Jupyter.notebook.get_cells();\n",
       "                for (var i = 0; i < nbb_cells.length; ++i) {\n",
       "                    if (nbb_cells[i].input_prompt_number == nbb_cell_id) {\n",
       "                        if (nbb_cells[i].get_text() == nbb_unformatted_code) {\n",
       "                             nbb_cells[i].set_text(nbb_formatted_code);\n",
       "                        }\n",
       "                        break;\n",
       "                    }\n",
       "                }\n",
       "            }, 500);\n",
       "            "
      ],
      "text/plain": [
       "<IPython.core.display.Javascript object>"
      ]
     },
     "metadata": {},
     "output_type": "display_data"
    }
   ],
   "source": [
    "def profit_value(dictionary):\n",
    "    return math.ceil(\n",
    "        dictionary[\"inventory\"] * (dictionary[\"sell_price\"] - dictionary[\"cost_price\"])\n",
    "    )\n",
    "\n",
    "\n",
    "assert (\n",
    "    profit_value({\"cost_price\": 32.67, \"sell_price\": 45.00, \"inventory\": 1200}) == 14796\n",
    ")\n",
    "assert (\n",
    "    profit_value({\"cost_price\": 225.89, \"sell_price\": 550.00, \"inventory\": 100})\n",
    "    == 32411\n",
    ")\n",
    "assert (\n",
    "    profit_value({\"cost_price\": 2.77, \"sell_price\": 7.95, \"inventory\": 8500}) == 44030\n",
    ")"
   ]
  },
  {
   "cell_type": "code",
   "execution_count": 72,
   "metadata": {},
   "outputs": [
    {
     "data": {
      "application/javascript": [
       "\n",
       "            setTimeout(function() {\n",
       "                var nbb_cell_id = 72;\n",
       "                var nbb_unformatted_code = \"# 5. Creati o functie care primeste doua numere ca argumente (num, length) si intoarce\\n# o lista multiplilor lui num pana cand lista ajunge la length elemente. num va fi si el in lista intoarsa.\\n# De exemplu:\\n#\\n# list_of_multiples(7, 5) \\u279e [7, 14, 21, 28, 35]\\n# list_of_multiples(12, 10) \\u279e [12, 24, 36, 48, 60, 72, 84, 96, 108, 120]\\n# list_of_multiples(17, 6) \\u279e [17, 34, 51, 68, 85, 102]\";\n",
       "                var nbb_formatted_code = \"# 5. Creati o functie care primeste doua numere ca argumente (num, length) si intoarce\\n# o lista multiplilor lui num pana cand lista ajunge la length elemente. num va fi si el in lista intoarsa.\\n# De exemplu:\\n#\\n# list_of_multiples(7, 5) \\u279e [7, 14, 21, 28, 35]\\n# list_of_multiples(12, 10) \\u279e [12, 24, 36, 48, 60, 72, 84, 96, 108, 120]\\n# list_of_multiples(17, 6) \\u279e [17, 34, 51, 68, 85, 102]\";\n",
       "                var nbb_cells = Jupyter.notebook.get_cells();\n",
       "                for (var i = 0; i < nbb_cells.length; ++i) {\n",
       "                    if (nbb_cells[i].input_prompt_number == nbb_cell_id) {\n",
       "                        if (nbb_cells[i].get_text() == nbb_unformatted_code) {\n",
       "                             nbb_cells[i].set_text(nbb_formatted_code);\n",
       "                        }\n",
       "                        break;\n",
       "                    }\n",
       "                }\n",
       "            }, 500);\n",
       "            "
      ],
      "text/plain": [
       "<IPython.core.display.Javascript object>"
      ]
     },
     "metadata": {},
     "output_type": "display_data"
    }
   ],
   "source": [
    "# 5. Creati o functie care primeste doua numere ca argumente (num, length) si intoarce\n",
    "# o lista multiplilor lui num pana cand lista ajunge la length elemente. num va fi si el in lista intoarsa.\n",
    "# De exemplu:\n",
    "#\n",
    "# list_of_multiples(7, 5) ➞ [7, 14, 21, 28, 35]\n",
    "# list_of_multiples(12, 10) ➞ [12, 24, 36, 48, 60, 72, 84, 96, 108, 120]\n",
    "# list_of_multiples(17, 6) ➞ [17, 34, 51, 68, 85, 102]"
   ]
  },
  {
   "cell_type": "code",
   "execution_count": 73,
   "metadata": {},
   "outputs": [
    {
     "data": {
      "application/javascript": [
       "\n",
       "            setTimeout(function() {\n",
       "                var nbb_cell_id = 73;\n",
       "                var nbb_unformatted_code = \"def list_of_multiples(num, lenght):\\n    return [x * num for x in range(1, lenght + 1)]\\n\\n\\nassert list_of_multiples(7, 5) == [7, 14, 21, 28, 35]\\nassert list_of_multiples(12, 10) == [12, 24, 36, 48, 60, 72, 84, 96, 108, 120]\\nassert list_of_multiples(17, 6) == [17, 34, 51, 68, 85, 102]\";\n",
       "                var nbb_formatted_code = \"def list_of_multiples(num, lenght):\\n    return [x * num for x in range(1, lenght + 1)]\\n\\n\\nassert list_of_multiples(7, 5) == [7, 14, 21, 28, 35]\\nassert list_of_multiples(12, 10) == [12, 24, 36, 48, 60, 72, 84, 96, 108, 120]\\nassert list_of_multiples(17, 6) == [17, 34, 51, 68, 85, 102]\";\n",
       "                var nbb_cells = Jupyter.notebook.get_cells();\n",
       "                for (var i = 0; i < nbb_cells.length; ++i) {\n",
       "                    if (nbb_cells[i].input_prompt_number == nbb_cell_id) {\n",
       "                        if (nbb_cells[i].get_text() == nbb_unformatted_code) {\n",
       "                             nbb_cells[i].set_text(nbb_formatted_code);\n",
       "                        }\n",
       "                        break;\n",
       "                    }\n",
       "                }\n",
       "            }, 500);\n",
       "            "
      ],
      "text/plain": [
       "<IPython.core.display.Javascript object>"
      ]
     },
     "metadata": {},
     "output_type": "display_data"
    }
   ],
   "source": [
    "def list_of_multiples(num, lenght):\n",
    "    return [x * num for x in range(1, lenght + 1)]\n",
    "\n",
    "\n",
    "assert list_of_multiples(7, 5) == [7, 14, 21, 28, 35]\n",
    "assert list_of_multiples(12, 10) == [12, 24, 36, 48, 60, 72, 84, 96, 108, 120]\n",
    "assert list_of_multiples(17, 6) == [17, 34, 51, 68, 85, 102]"
   ]
  },
  {
   "cell_type": "code",
   "execution_count": 74,
   "metadata": {},
   "outputs": [
    {
     "data": {
      "application/javascript": [
       "\n",
       "            setTimeout(function() {\n",
       "                var nbb_cell_id = 74;\n",
       "                var nbb_unformatted_code = \"# 6. Creati doua functii, una care primeste un string ca argument si intoarce codul Morse echivalent,\\n# o a doua care primeste stringul encodat si il decodeaza ca text.\\n# De exemplu:\\n\\n# encode_morse(\\\"HELP ME !\\\") \\u279e \\\".... . .-.. .--.   -- .   -.-.--\\\"\\n# decode_morse(\\\".... . .-.. .--.   -- .   -.-.--\\\") \\u279e \\\"HELP ME !\\\"\\n\\n# Folositi urmatorul dictionar:\\n\\nchar_to_dots = {\\n    \\\"A\\\": \\\".-\\\",\\n    \\\"B\\\": \\\"-...\\\",\\n    \\\"C\\\": \\\"-.-.\\\",\\n    \\\"D\\\": \\\"-..\\\",\\n    \\\"E\\\": \\\".\\\",\\n    \\\"F\\\": \\\"..-.\\\",\\n    \\\"G\\\": \\\"--.\\\",\\n    \\\"H\\\": \\\"....\\\",\\n    \\\"I\\\": \\\"..\\\",\\n    \\\"J\\\": \\\".---\\\",\\n    \\\"K\\\": \\\"-.-\\\",\\n    \\\"L\\\": \\\".-..\\\",\\n    \\\"M\\\": \\\"--\\\",\\n    \\\"N\\\": \\\"-.\\\",\\n    \\\"O\\\": \\\"---\\\",\\n    \\\"P\\\": \\\".--.\\\",\\n    \\\"Q\\\": \\\"--.-\\\",\\n    \\\"R\\\": \\\".-.\\\",\\n    \\\"S\\\": \\\"...\\\",\\n    \\\"T\\\": \\\"-\\\",\\n    \\\"U\\\": \\\"..-\\\",\\n    \\\"V\\\": \\\"...-\\\",\\n    \\\"W\\\": \\\".--\\\",\\n    \\\"X\\\": \\\"-..-\\\",\\n    \\\"Y\\\": \\\"-.--\\\",\\n    \\\"Z\\\": \\\"--..\\\",\\n    \\\" \\\": \\\" \\\",\\n    \\\"0\\\": \\\"-----\\\",\\n    \\\"1\\\": \\\".----\\\",\\n    \\\"2\\\": \\\"..---\\\",\\n    \\\"3\\\": \\\"...--\\\",\\n    \\\"4\\\": \\\"....-\\\",\\n    \\\"5\\\": \\\".....\\\",\\n    \\\"6\\\": \\\"-....\\\",\\n    \\\"7\\\": \\\"--...\\\",\\n    \\\"8\\\": \\\"---..\\\",\\n    \\\"9\\\": \\\"----.\\\",\\n    \\\"&\\\": \\\".-...\\\",\\n    \\\"'\\\": \\\".----.\\\",\\n    \\\"@\\\": \\\".--.-.\\\",\\n    \\\")\\\": \\\"-.--.-\\\",\\n    \\\"(\\\": \\\"-.--.\\\",\\n    \\\":\\\": \\\"---...\\\",\\n    \\\",\\\": \\\"--..--\\\",\\n    \\\"=\\\": \\\"-...-\\\",\\n    \\\"!\\\": \\\"-.-.--\\\",\\n    \\\".\\\": \\\".-.-.-\\\",\\n    \\\"-\\\": \\\"-....-\\\",\\n    \\\"+\\\": \\\".-.-.\\\",\\n    '\\\"': \\\".-..-.\\\",\\n    \\\"?\\\": \\\"..--..\\\",\\n    \\\"/\\\": \\\"-..-.\\\",\\n}\\n\\n# Verificati corectitudinea codarii prin decodare si obtinerea aceluiasi sir. Detectati si secvente invalide.\";\n",
       "                var nbb_formatted_code = \"# 6. Creati doua functii, una care primeste un string ca argument si intoarce codul Morse echivalent,\\n# o a doua care primeste stringul encodat si il decodeaza ca text.\\n# De exemplu:\\n\\n# encode_morse(\\\"HELP ME !\\\") \\u279e \\\".... . .-.. .--.   -- .   -.-.--\\\"\\n# decode_morse(\\\".... . .-.. .--.   -- .   -.-.--\\\") \\u279e \\\"HELP ME !\\\"\\n\\n# Folositi urmatorul dictionar:\\n\\nchar_to_dots = {\\n    \\\"A\\\": \\\".-\\\",\\n    \\\"B\\\": \\\"-...\\\",\\n    \\\"C\\\": \\\"-.-.\\\",\\n    \\\"D\\\": \\\"-..\\\",\\n    \\\"E\\\": \\\".\\\",\\n    \\\"F\\\": \\\"..-.\\\",\\n    \\\"G\\\": \\\"--.\\\",\\n    \\\"H\\\": \\\"....\\\",\\n    \\\"I\\\": \\\"..\\\",\\n    \\\"J\\\": \\\".---\\\",\\n    \\\"K\\\": \\\"-.-\\\",\\n    \\\"L\\\": \\\".-..\\\",\\n    \\\"M\\\": \\\"--\\\",\\n    \\\"N\\\": \\\"-.\\\",\\n    \\\"O\\\": \\\"---\\\",\\n    \\\"P\\\": \\\".--.\\\",\\n    \\\"Q\\\": \\\"--.-\\\",\\n    \\\"R\\\": \\\".-.\\\",\\n    \\\"S\\\": \\\"...\\\",\\n    \\\"T\\\": \\\"-\\\",\\n    \\\"U\\\": \\\"..-\\\",\\n    \\\"V\\\": \\\"...-\\\",\\n    \\\"W\\\": \\\".--\\\",\\n    \\\"X\\\": \\\"-..-\\\",\\n    \\\"Y\\\": \\\"-.--\\\",\\n    \\\"Z\\\": \\\"--..\\\",\\n    \\\" \\\": \\\" \\\",\\n    \\\"0\\\": \\\"-----\\\",\\n    \\\"1\\\": \\\".----\\\",\\n    \\\"2\\\": \\\"..---\\\",\\n    \\\"3\\\": \\\"...--\\\",\\n    \\\"4\\\": \\\"....-\\\",\\n    \\\"5\\\": \\\".....\\\",\\n    \\\"6\\\": \\\"-....\\\",\\n    \\\"7\\\": \\\"--...\\\",\\n    \\\"8\\\": \\\"---..\\\",\\n    \\\"9\\\": \\\"----.\\\",\\n    \\\"&\\\": \\\".-...\\\",\\n    \\\"'\\\": \\\".----.\\\",\\n    \\\"@\\\": \\\".--.-.\\\",\\n    \\\")\\\": \\\"-.--.-\\\",\\n    \\\"(\\\": \\\"-.--.\\\",\\n    \\\":\\\": \\\"---...\\\",\\n    \\\",\\\": \\\"--..--\\\",\\n    \\\"=\\\": \\\"-...-\\\",\\n    \\\"!\\\": \\\"-.-.--\\\",\\n    \\\".\\\": \\\".-.-.-\\\",\\n    \\\"-\\\": \\\"-....-\\\",\\n    \\\"+\\\": \\\".-.-.\\\",\\n    '\\\"': \\\".-..-.\\\",\\n    \\\"?\\\": \\\"..--..\\\",\\n    \\\"/\\\": \\\"-..-.\\\",\\n}\\n\\n# Verificati corectitudinea codarii prin decodare si obtinerea aceluiasi sir. Detectati si secvente invalide.\";\n",
       "                var nbb_cells = Jupyter.notebook.get_cells();\n",
       "                for (var i = 0; i < nbb_cells.length; ++i) {\n",
       "                    if (nbb_cells[i].input_prompt_number == nbb_cell_id) {\n",
       "                        if (nbb_cells[i].get_text() == nbb_unformatted_code) {\n",
       "                             nbb_cells[i].set_text(nbb_formatted_code);\n",
       "                        }\n",
       "                        break;\n",
       "                    }\n",
       "                }\n",
       "            }, 500);\n",
       "            "
      ],
      "text/plain": [
       "<IPython.core.display.Javascript object>"
      ]
     },
     "metadata": {},
     "output_type": "display_data"
    }
   ],
   "source": [
    "# 6. Creati doua functii, una care primeste un string ca argument si intoarce codul Morse echivalent,\n",
    "# o a doua care primeste stringul encodat si il decodeaza ca text.\n",
    "# De exemplu:\n",
    "\n",
    "# encode_morse(\"HELP ME !\") ➞ \".... . .-.. .--.   -- .   -.-.--\"\n",
    "# decode_morse(\".... . .-.. .--.   -- .   -.-.--\") ➞ \"HELP ME !\"\n",
    "\n",
    "# Folositi urmatorul dictionar:\n",
    "\n",
    "char_to_dots = {\n",
    "    \"A\": \".-\",\n",
    "    \"B\": \"-...\",\n",
    "    \"C\": \"-.-.\",\n",
    "    \"D\": \"-..\",\n",
    "    \"E\": \".\",\n",
    "    \"F\": \"..-.\",\n",
    "    \"G\": \"--.\",\n",
    "    \"H\": \"....\",\n",
    "    \"I\": \"..\",\n",
    "    \"J\": \".---\",\n",
    "    \"K\": \"-.-\",\n",
    "    \"L\": \".-..\",\n",
    "    \"M\": \"--\",\n",
    "    \"N\": \"-.\",\n",
    "    \"O\": \"---\",\n",
    "    \"P\": \".--.\",\n",
    "    \"Q\": \"--.-\",\n",
    "    \"R\": \".-.\",\n",
    "    \"S\": \"...\",\n",
    "    \"T\": \"-\",\n",
    "    \"U\": \"..-\",\n",
    "    \"V\": \"...-\",\n",
    "    \"W\": \".--\",\n",
    "    \"X\": \"-..-\",\n",
    "    \"Y\": \"-.--\",\n",
    "    \"Z\": \"--..\",\n",
    "    \" \": \" \",\n",
    "    \"0\": \"-----\",\n",
    "    \"1\": \".----\",\n",
    "    \"2\": \"..---\",\n",
    "    \"3\": \"...--\",\n",
    "    \"4\": \"....-\",\n",
    "    \"5\": \".....\",\n",
    "    \"6\": \"-....\",\n",
    "    \"7\": \"--...\",\n",
    "    \"8\": \"---..\",\n",
    "    \"9\": \"----.\",\n",
    "    \"&\": \".-...\",\n",
    "    \"'\": \".----.\",\n",
    "    \"@\": \".--.-.\",\n",
    "    \")\": \"-.--.-\",\n",
    "    \"(\": \"-.--.\",\n",
    "    \":\": \"---...\",\n",
    "    \",\": \"--..--\",\n",
    "    \"=\": \"-...-\",\n",
    "    \"!\": \"-.-.--\",\n",
    "    \".\": \".-.-.-\",\n",
    "    \"-\": \"-....-\",\n",
    "    \"+\": \".-.-.\",\n",
    "    '\"': \".-..-.\",\n",
    "    \"?\": \"..--..\",\n",
    "    \"/\": \"-..-.\",\n",
    "}\n",
    "\n",
    "# Verificati corectitudinea codarii prin decodare si obtinerea aceluiasi sir. Detectati si secvente invalide."
   ]
  },
  {
   "cell_type": "code",
   "execution_count": 75,
   "metadata": {},
   "outputs": [
    {
     "data": {
      "application/javascript": [
       "\n",
       "            setTimeout(function() {\n",
       "                var nbb_cell_id = 75;\n",
       "                var nbb_unformatted_code = \"def encode_morse(string):\\n    return \\\" \\\".join([char_to_dots[char] for char in string])\\n\\n\\nassert encode_morse(\\\"HELP ME !\\\") == \\\".... . .-.. .--.   -- .   -.-.--\\\"\";\n",
       "                var nbb_formatted_code = \"def encode_morse(string):\\n    return \\\" \\\".join([char_to_dots[char] for char in string])\\n\\n\\nassert encode_morse(\\\"HELP ME !\\\") == \\\".... . .-.. .--.   -- .   -.-.--\\\"\";\n",
       "                var nbb_cells = Jupyter.notebook.get_cells();\n",
       "                for (var i = 0; i < nbb_cells.length; ++i) {\n",
       "                    if (nbb_cells[i].input_prompt_number == nbb_cell_id) {\n",
       "                        if (nbb_cells[i].get_text() == nbb_unformatted_code) {\n",
       "                             nbb_cells[i].set_text(nbb_formatted_code);\n",
       "                        }\n",
       "                        break;\n",
       "                    }\n",
       "                }\n",
       "            }, 500);\n",
       "            "
      ],
      "text/plain": [
       "<IPython.core.display.Javascript object>"
      ]
     },
     "metadata": {},
     "output_type": "display_data"
    }
   ],
   "source": [
    "def encode_morse(string):\n",
    "    return \" \".join([char_to_dots[char] for char in string])\n",
    "\n",
    "\n",
    "assert encode_morse(\"HELP ME !\") == \".... . .-.. .--.   -- .   -.-.--\""
   ]
  },
  {
   "cell_type": "code",
   "execution_count": 76,
   "metadata": {},
   "outputs": [
    {
     "data": {
      "application/javascript": [
       "\n",
       "            setTimeout(function() {\n",
       "                var nbb_cell_id = 76;\n",
       "                var nbb_unformatted_code = \"dots_to_char = {dots: char for char, dots in char_to_dots.items()}\";\n",
       "                var nbb_formatted_code = \"dots_to_char = {dots: char for char, dots in char_to_dots.items()}\";\n",
       "                var nbb_cells = Jupyter.notebook.get_cells();\n",
       "                for (var i = 0; i < nbb_cells.length; ++i) {\n",
       "                    if (nbb_cells[i].input_prompt_number == nbb_cell_id) {\n",
       "                        if (nbb_cells[i].get_text() == nbb_unformatted_code) {\n",
       "                             nbb_cells[i].set_text(nbb_formatted_code);\n",
       "                        }\n",
       "                        break;\n",
       "                    }\n",
       "                }\n",
       "            }, 500);\n",
       "            "
      ],
      "text/plain": [
       "<IPython.core.display.Javascript object>"
      ]
     },
     "metadata": {},
     "output_type": "display_data"
    }
   ],
   "source": [
    "dots_to_char = {dots: char for char, dots in char_to_dots.items()}"
   ]
  },
  {
   "cell_type": "code",
   "execution_count": 77,
   "metadata": {
    "scrolled": true
   },
   "outputs": [
    {
     "data": {
      "application/javascript": [
       "\n",
       "            setTimeout(function() {\n",
       "                var nbb_cell_id = 77;\n",
       "                var nbb_unformatted_code = \"def decode_morse(string):\\n    replaced = string.replace(\\\"  \\\", \\\" # \\\")\\n    return \\\"\\\".join(\\n        [\\n            dots_to_char[dots]\\n            if (dots in dots_to_char)\\n            else \\\" \\\"\\n            if (dots == \\\"#\\\")\\n            else \\\"#\\\"\\n            for dots in replaced.split()\\n        ]\\n    )\\n\\n\\nassert decode_morse(\\\".... . .-.. .--.   -- .   -.-.--\\\") == \\\"HELP ME !\\\"\";\n",
       "                var nbb_formatted_code = \"def decode_morse(string):\\n    replaced = string.replace(\\\"  \\\", \\\" # \\\")\\n    return \\\"\\\".join(\\n        [\\n            dots_to_char[dots]\\n            if (dots in dots_to_char)\\n            else \\\" \\\"\\n            if (dots == \\\"#\\\")\\n            else \\\"#\\\"\\n            for dots in replaced.split()\\n        ]\\n    )\\n\\n\\nassert decode_morse(\\\".... . .-.. .--.   -- .   -.-.--\\\") == \\\"HELP ME !\\\"\";\n",
       "                var nbb_cells = Jupyter.notebook.get_cells();\n",
       "                for (var i = 0; i < nbb_cells.length; ++i) {\n",
       "                    if (nbb_cells[i].input_prompt_number == nbb_cell_id) {\n",
       "                        if (nbb_cells[i].get_text() == nbb_unformatted_code) {\n",
       "                             nbb_cells[i].set_text(nbb_formatted_code);\n",
       "                        }\n",
       "                        break;\n",
       "                    }\n",
       "                }\n",
       "            }, 500);\n",
       "            "
      ],
      "text/plain": [
       "<IPython.core.display.Javascript object>"
      ]
     },
     "metadata": {},
     "output_type": "display_data"
    }
   ],
   "source": [
    "def decode_morse(string):\n",
    "    replaced = string.replace(\"  \", \" # \")\n",
    "    return \"\".join(\n",
    "        [\n",
    "            dots_to_char[dots]\n",
    "            if (dots in dots_to_char)\n",
    "            else \" \"\n",
    "            if (dots == \"#\")\n",
    "            else \"#\"\n",
    "            for dots in replaced.split()\n",
    "        ]\n",
    "    )\n",
    "\n",
    "\n",
    "assert decode_morse(\".... . .-.. .--.   -- .   -.-.--\") == \"HELP ME !\""
   ]
  },
  {
   "cell_type": "code",
   "execution_count": 78,
   "metadata": {},
   "outputs": [
    {
     "data": {
      "application/javascript": [
       "\n",
       "            setTimeout(function() {\n",
       "                var nbb_cell_id = 78;\n",
       "                var nbb_unformatted_code = \"assert decode_morse(encode_morse(\\\"HELP    ME !\\\")) == \\\"HELP    ME !\\\"\";\n",
       "                var nbb_formatted_code = \"assert decode_morse(encode_morse(\\\"HELP    ME !\\\")) == \\\"HELP    ME !\\\"\";\n",
       "                var nbb_cells = Jupyter.notebook.get_cells();\n",
       "                for (var i = 0; i < nbb_cells.length; ++i) {\n",
       "                    if (nbb_cells[i].input_prompt_number == nbb_cell_id) {\n",
       "                        if (nbb_cells[i].get_text() == nbb_unformatted_code) {\n",
       "                             nbb_cells[i].set_text(nbb_formatted_code);\n",
       "                        }\n",
       "                        break;\n",
       "                    }\n",
       "                }\n",
       "            }, 500);\n",
       "            "
      ],
      "text/plain": [
       "<IPython.core.display.Javascript object>"
      ]
     },
     "metadata": {},
     "output_type": "display_data"
    }
   ],
   "source": [
    "assert decode_morse(encode_morse(\"HELP    ME !\")) == \"HELP    ME !\""
   ]
  },
  {
   "cell_type": "code",
   "execution_count": 79,
   "metadata": {
    "scrolled": true
   },
   "outputs": [
    {
     "name": "stdout",
     "output_type": "stream",
     "text": [
      "HELP ME !\n",
      "HELP #E !\n",
      "HEL# ME !\n",
      "HELP ## ME !\n"
     ]
    },
    {
     "data": {
      "application/javascript": [
       "\n",
       "            setTimeout(function() {\n",
       "                var nbb_cell_id = 79;\n",
       "                var nbb_unformatted_code = \"# Caracterul \\\"#\\\" reprezinta o secventa invalida\\n\\nprint(decode_morse(\\\".... . .-.. .--.   -- .   -.-.--\\\"))\\nprint(decode_morse(\\\".... . .-.. .--.   ------ .   -.-.--\\\"))\\nprint(decode_morse(\\\".... . .-.. .-.--.   -- .   -.-.--\\\"))\\nprint(decode_morse(\\\".... . .-.. .--.   = =+=  -- .   -.-.--\\\"))\";\n",
       "                var nbb_formatted_code = \"# Caracterul \\\"#\\\" reprezinta o secventa invalida\\n\\nprint(decode_morse(\\\".... . .-.. .--.   -- .   -.-.--\\\"))\\nprint(decode_morse(\\\".... . .-.. .--.   ------ .   -.-.--\\\"))\\nprint(decode_morse(\\\".... . .-.. .-.--.   -- .   -.-.--\\\"))\\nprint(decode_morse(\\\".... . .-.. .--.   = =+=  -- .   -.-.--\\\"))\";\n",
       "                var nbb_cells = Jupyter.notebook.get_cells();\n",
       "                for (var i = 0; i < nbb_cells.length; ++i) {\n",
       "                    if (nbb_cells[i].input_prompt_number == nbb_cell_id) {\n",
       "                        if (nbb_cells[i].get_text() == nbb_unformatted_code) {\n",
       "                             nbb_cells[i].set_text(nbb_formatted_code);\n",
       "                        }\n",
       "                        break;\n",
       "                    }\n",
       "                }\n",
       "            }, 500);\n",
       "            "
      ],
      "text/plain": [
       "<IPython.core.display.Javascript object>"
      ]
     },
     "metadata": {},
     "output_type": "display_data"
    }
   ],
   "source": [
    "# Caracterul \"#\" reprezinta o secventa invalida\n",
    "\n",
    "print(decode_morse(\".... . .-.. .--.   -- .   -.-.--\"))\n",
    "print(decode_morse(\".... . .-.. .--.   ------ .   -.-.--\"))\n",
    "print(decode_morse(\".... . .-.. .-.--.   -- .   -.-.--\"))\n",
    "print(decode_morse(\".... . .-.. .--.   = =+=  -- .   -.-.--\"))"
   ]
  },
  {
   "cell_type": "code",
   "execution_count": 80,
   "metadata": {},
   "outputs": [
    {
     "data": {
      "application/javascript": [
       "\n",
       "            setTimeout(function() {\n",
       "                var nbb_cell_id = 80;\n",
       "                var nbb_unformatted_code = \"# 7. Scrieti o functie care intoarce True daca doua array-uri, combinate, formeaza o secventa consecutiva.\\n# O secventa consecutiva este o secventa fara gap-uri intre intregi, de exemplu 1, 2, 3, 4, 5 este\\n# o secventa consecutiva iar 1, 2, 4, 5 nu. Secventele vor fi liste cu intregi unici, care pot fi plasati\\n# in orice ordine.\\n\\n# De exemplu:\\n# consecutive_combo([7, 4, 5, 1], [2, 3, 6 ]) \\u279e True\\n# consecutive_combo([1, 4, 6, 5], [2, 7, 8, 9]) \\u279e False\\n# consecutive_combo([1, 4, 5, 6], [2, 3, 7, 8, 10]) \\u279e False\\n# consecutive_combo([44, 46], [45]) \\u279e True\\n\\n# Dati o metoda de generare a unor astfel de doua secvente consecutive, cu un numar aleator de componente,\\n# iar cele doua secvente sa fie ordonate aleator.\";\n",
       "                var nbb_formatted_code = \"# 7. Scrieti o functie care intoarce True daca doua array-uri, combinate, formeaza o secventa consecutiva.\\n# O secventa consecutiva este o secventa fara gap-uri intre intregi, de exemplu 1, 2, 3, 4, 5 este\\n# o secventa consecutiva iar 1, 2, 4, 5 nu. Secventele vor fi liste cu intregi unici, care pot fi plasati\\n# in orice ordine.\\n\\n# De exemplu:\\n# consecutive_combo([7, 4, 5, 1], [2, 3, 6 ]) \\u279e True\\n# consecutive_combo([1, 4, 6, 5], [2, 7, 8, 9]) \\u279e False\\n# consecutive_combo([1, 4, 5, 6], [2, 3, 7, 8, 10]) \\u279e False\\n# consecutive_combo([44, 46], [45]) \\u279e True\\n\\n# Dati o metoda de generare a unor astfel de doua secvente consecutive, cu un numar aleator de componente,\\n# iar cele doua secvente sa fie ordonate aleator.\";\n",
       "                var nbb_cells = Jupyter.notebook.get_cells();\n",
       "                for (var i = 0; i < nbb_cells.length; ++i) {\n",
       "                    if (nbb_cells[i].input_prompt_number == nbb_cell_id) {\n",
       "                        if (nbb_cells[i].get_text() == nbb_unformatted_code) {\n",
       "                             nbb_cells[i].set_text(nbb_formatted_code);\n",
       "                        }\n",
       "                        break;\n",
       "                    }\n",
       "                }\n",
       "            }, 500);\n",
       "            "
      ],
      "text/plain": [
       "<IPython.core.display.Javascript object>"
      ]
     },
     "metadata": {},
     "output_type": "display_data"
    }
   ],
   "source": [
    "# 7. Scrieti o functie care intoarce True daca doua array-uri, combinate, formeaza o secventa consecutiva.\n",
    "# O secventa consecutiva este o secventa fara gap-uri intre intregi, de exemplu 1, 2, 3, 4, 5 este\n",
    "# o secventa consecutiva iar 1, 2, 4, 5 nu. Secventele vor fi liste cu intregi unici, care pot fi plasati\n",
    "# in orice ordine.\n",
    "\n",
    "# De exemplu:\n",
    "# consecutive_combo([7, 4, 5, 1], [2, 3, 6 ]) ➞ True\n",
    "# consecutive_combo([1, 4, 6, 5], [2, 7, 8, 9]) ➞ False\n",
    "# consecutive_combo([1, 4, 5, 6], [2, 3, 7, 8, 10]) ➞ False\n",
    "# consecutive_combo([44, 46], [45]) ➞ True\n",
    "\n",
    "# Dati o metoda de generare a unor astfel de doua secvente consecutive, cu un numar aleator de componente,\n",
    "# iar cele doua secvente sa fie ordonate aleator."
   ]
  },
  {
   "cell_type": "code",
   "execution_count": 81,
   "metadata": {},
   "outputs": [
    {
     "data": {
      "application/javascript": [
       "\n",
       "            setTimeout(function() {\n",
       "                var nbb_cell_id = 81;\n",
       "                var nbb_unformatted_code = \"def consecutive_combo(l1, l2):\\n    l = sorted(l1 + l2)\\n    return sum([abs(x[0] - x[1]) for x in zip(l[1:], l[:-1])]) == len(l) - 1\\n\\n\\nassert consecutive_combo([7, 4, 5, 1], [2, 3, 6]) == True\\nassert consecutive_combo([1, 4, 6, 5], [2, 7, 8, 9]) == False\\nassert consecutive_combo([1, 4, 5, 6], [2, 3, 7, 8, 10]) == False\\nassert consecutive_combo([44, 46], [45]) == True\";\n",
       "                var nbb_formatted_code = \"def consecutive_combo(l1, l2):\\n    l = sorted(l1 + l2)\\n    return sum([abs(x[0] - x[1]) for x in zip(l[1:], l[:-1])]) == len(l) - 1\\n\\n\\nassert consecutive_combo([7, 4, 5, 1], [2, 3, 6]) == True\\nassert consecutive_combo([1, 4, 6, 5], [2, 7, 8, 9]) == False\\nassert consecutive_combo([1, 4, 5, 6], [2, 3, 7, 8, 10]) == False\\nassert consecutive_combo([44, 46], [45]) == True\";\n",
       "                var nbb_cells = Jupyter.notebook.get_cells();\n",
       "                for (var i = 0; i < nbb_cells.length; ++i) {\n",
       "                    if (nbb_cells[i].input_prompt_number == nbb_cell_id) {\n",
       "                        if (nbb_cells[i].get_text() == nbb_unformatted_code) {\n",
       "                             nbb_cells[i].set_text(nbb_formatted_code);\n",
       "                        }\n",
       "                        break;\n",
       "                    }\n",
       "                }\n",
       "            }, 500);\n",
       "            "
      ],
      "text/plain": [
       "<IPython.core.display.Javascript object>"
      ]
     },
     "metadata": {},
     "output_type": "display_data"
    }
   ],
   "source": [
    "def consecutive_combo(l1, l2):\n",
    "    l = sorted(l1 + l2)\n",
    "    return sum([abs(x[0] - x[1]) for x in zip(l[1:], l[:-1])]) == len(l) - 1\n",
    "\n",
    "\n",
    "assert consecutive_combo([7, 4, 5, 1], [2, 3, 6]) == True\n",
    "assert consecutive_combo([1, 4, 6, 5], [2, 7, 8, 9]) == False\n",
    "assert consecutive_combo([1, 4, 5, 6], [2, 3, 7, 8, 10]) == False\n",
    "assert consecutive_combo([44, 46], [45]) == True"
   ]
  },
  {
   "cell_type": "code",
   "execution_count": 83,
   "metadata": {},
   "outputs": [
    {
     "name": "stdout",
     "output_type": "stream",
     "text": [
      "([12, 3, 11, 1], [4, 2, 9, 8, 6, 7, 10, 5])\n"
     ]
    },
    {
     "data": {
      "application/javascript": [
       "\n",
       "            setTimeout(function() {\n",
       "                var nbb_cell_id = 83;\n",
       "                var nbb_unformatted_code = \"# def generate_sequence():\\n#     size1 = np.random.randint(1, 20)\\n#     size2 = np.random.randint(1, 20)\\n#     return (\\n#         random.sample(range(1, size1 + 1), size1),\\n#         random.sample(range(1, size2 + 1), size2),\\n#     )\\n\\n\\ndef generate_sequence():\\n    size = np.random.randint(2, 20)\\n    rand = np.random.randint(1, size)\\n    l = random.sample(range(1, size + 1), size)\\n    return (l[:rand], l[rand:])\\n\\n\\nprint(generate_sequence())\";\n",
       "                var nbb_formatted_code = \"# def generate_sequence():\\n#     size1 = np.random.randint(1, 20)\\n#     size2 = np.random.randint(1, 20)\\n#     return (\\n#         random.sample(range(1, size1 + 1), size1),\\n#         random.sample(range(1, size2 + 1), size2),\\n#     )\\n\\n\\ndef generate_sequence():\\n    size = np.random.randint(2, 20)\\n    rand = np.random.randint(1, size)\\n    l = random.sample(range(1, size + 1), size)\\n    return (l[:rand], l[rand:])\\n\\n\\nprint(generate_sequence())\";\n",
       "                var nbb_cells = Jupyter.notebook.get_cells();\n",
       "                for (var i = 0; i < nbb_cells.length; ++i) {\n",
       "                    if (nbb_cells[i].input_prompt_number == nbb_cell_id) {\n",
       "                        if (nbb_cells[i].get_text() == nbb_unformatted_code) {\n",
       "                             nbb_cells[i].set_text(nbb_formatted_code);\n",
       "                        }\n",
       "                        break;\n",
       "                    }\n",
       "                }\n",
       "            }, 500);\n",
       "            "
      ],
      "text/plain": [
       "<IPython.core.display.Javascript object>"
      ]
     },
     "metadata": {},
     "output_type": "display_data"
    }
   ],
   "source": [
    "# def generate_sequence():\n",
    "#     size1 = np.random.randint(1, 20)\n",
    "#     size2 = np.random.randint(1, 20)\n",
    "#     return (\n",
    "#         random.sample(range(1, size1 + 1), size1),\n",
    "#         random.sample(range(1, size2 + 1), size2),\n",
    "#     )\n",
    "\n",
    "\n",
    "def generate_sequence():\n",
    "    size = np.random.randint(2, 20)\n",
    "    rand = np.random.randint(1, size)\n",
    "    l = random.sample(range(1, size + 1), size)\n",
    "    return (l[:rand], l[rand:])\n",
    "\n",
    "\n",
    "print(generate_sequence())"
   ]
  },
  {
   "cell_type": "code",
   "execution_count": 84,
   "metadata": {},
   "outputs": [
    {
     "data": {
      "application/javascript": [
       "\n",
       "            setTimeout(function() {\n",
       "                var nbb_cell_id = 84;\n",
       "                var nbb_unformatted_code = \"# 8. Scrieti o functie care aduna doua numere. Numerele vor fi insa siruri (string-uri). De exemplu:\\n#\\n# add_str_nums(\\\"4\\\", \\\"5\\\") \\u279e \\\"9\\\"\\n# add_str_nums(\\\"abcdefg\\\", \\\"3\\\") \\u279e \\\"-1\\\"\\n# add_str_nums(\\\"1\\\", \\\"\\\") \\u279e \\\"1\\\"\\n# add_str_nums(\\\"1874682736267235927359283579235789257\\\", \\\"32652983572985729\\\") \\u279e \\\"1874682736267235927391936562808774986\\\"\\n\\n# Nu veti folosi functia Python care aduna numere cu orice dimensiune, ci doar va veti verifica cu ajutorul ei.\\n# Daca un numar are multe zerouri la inceputul sau, acestea vor fi ignorate (trimmed).\";\n",
       "                var nbb_formatted_code = \"# 8. Scrieti o functie care aduna doua numere. Numerele vor fi insa siruri (string-uri). De exemplu:\\n#\\n# add_str_nums(\\\"4\\\", \\\"5\\\") \\u279e \\\"9\\\"\\n# add_str_nums(\\\"abcdefg\\\", \\\"3\\\") \\u279e \\\"-1\\\"\\n# add_str_nums(\\\"1\\\", \\\"\\\") \\u279e \\\"1\\\"\\n# add_str_nums(\\\"1874682736267235927359283579235789257\\\", \\\"32652983572985729\\\") \\u279e \\\"1874682736267235927391936562808774986\\\"\\n\\n# Nu veti folosi functia Python care aduna numere cu orice dimensiune, ci doar va veti verifica cu ajutorul ei.\\n# Daca un numar are multe zerouri la inceputul sau, acestea vor fi ignorate (trimmed).\";\n",
       "                var nbb_cells = Jupyter.notebook.get_cells();\n",
       "                for (var i = 0; i < nbb_cells.length; ++i) {\n",
       "                    if (nbb_cells[i].input_prompt_number == nbb_cell_id) {\n",
       "                        if (nbb_cells[i].get_text() == nbb_unformatted_code) {\n",
       "                             nbb_cells[i].set_text(nbb_formatted_code);\n",
       "                        }\n",
       "                        break;\n",
       "                    }\n",
       "                }\n",
       "            }, 500);\n",
       "            "
      ],
      "text/plain": [
       "<IPython.core.display.Javascript object>"
      ]
     },
     "metadata": {},
     "output_type": "display_data"
    }
   ],
   "source": [
    "# 8. Scrieti o functie care aduna doua numere. Numerele vor fi insa siruri (string-uri). De exemplu:\n",
    "#\n",
    "# add_str_nums(\"4\", \"5\") ➞ \"9\"\n",
    "# add_str_nums(\"abcdefg\", \"3\") ➞ \"-1\"\n",
    "# add_str_nums(\"1\", \"\") ➞ \"1\"\n",
    "# add_str_nums(\"1874682736267235927359283579235789257\", \"32652983572985729\") ➞ \"1874682736267235927391936562808774986\"\n",
    "\n",
    "# Nu veti folosi functia Python care aduna numere cu orice dimensiune, ci doar va veti verifica cu ajutorul ei.\n",
    "# Daca un numar are multe zerouri la inceputul sau, acestea vor fi ignorate (trimmed)."
   ]
  },
  {
   "cell_type": "code",
   "execution_count": 85,
   "metadata": {},
   "outputs": [
    {
     "data": {
      "application/javascript": [
       "\n",
       "            setTimeout(function() {\n",
       "                var nbb_cell_id = 85;\n",
       "                var nbb_unformatted_code = \"def add_str_nums(no1, no2):\\n    if no2 == \\\"\\\":\\n        if no1.isnumeric() is False:\\n            return \\\"-1\\\"\\n        else:\\n            return no1\\n    elif no1 == \\\"\\\":\\n        if no2.isnumeric() is False:\\n            return \\\"-1\\\"\\n        else:\\n            return no2\\n    if no1.isnumeric() is False or no2.isnumeric() is False:\\n        return \\\"-1\\\"\\n    no1 = no1.lstrip(\\\"0\\\")\\n    no2 = no2.lstrip(\\\"0\\\")\\n    if len(no1) < len(no2):\\n        no1, no2 = no2, no1\\n    l = [0] + [\\n        x[0] + x[1]\\n        for x in zip(\\n            [int(x) for x in no1],\\n            [0] * (len(no1) - len(no2)) + [int(x) for x in no2],\\n        )\\n    ]\\n    result = [\\\"\\\"] * (len(l))\\n    carry = 0\\n    for i in range(len(l) - 1, -1, -1):\\n        l[i] += carry\\n        result[i] = str(l[i] % 10)\\n        carry = l[i] // 10\\n    return \\\"\\\".join(result).lstrip(\\\"0\\\")\\n\\n\\nassert add_str_nums(\\\"4\\\", \\\"5\\\") == \\\"9\\\"\\nassert add_str_nums(\\\"abcdefg\\\", \\\"3\\\") == \\\"-1\\\"\\nassert add_str_nums(\\\"1\\\", \\\"\\\") == \\\"1\\\"\\nassert (\\n    add_str_nums(\\\"1874682736267235927359283579235789257\\\", \\\"32652983572985729\\\")\\n    == \\\"1874682736267235927391936562808774986\\\"\\n)\\nassert add_str_nums(\\\"9999\\\", \\\"5\\\") == \\\"10004\\\"\";\n",
       "                var nbb_formatted_code = \"def add_str_nums(no1, no2):\\n    if no2 == \\\"\\\":\\n        if no1.isnumeric() is False:\\n            return \\\"-1\\\"\\n        else:\\n            return no1\\n    elif no1 == \\\"\\\":\\n        if no2.isnumeric() is False:\\n            return \\\"-1\\\"\\n        else:\\n            return no2\\n    if no1.isnumeric() is False or no2.isnumeric() is False:\\n        return \\\"-1\\\"\\n    no1 = no1.lstrip(\\\"0\\\")\\n    no2 = no2.lstrip(\\\"0\\\")\\n    if len(no1) < len(no2):\\n        no1, no2 = no2, no1\\n    l = [0] + [\\n        x[0] + x[1]\\n        for x in zip(\\n            [int(x) for x in no1],\\n            [0] * (len(no1) - len(no2)) + [int(x) for x in no2],\\n        )\\n    ]\\n    result = [\\\"\\\"] * (len(l))\\n    carry = 0\\n    for i in range(len(l) - 1, -1, -1):\\n        l[i] += carry\\n        result[i] = str(l[i] % 10)\\n        carry = l[i] // 10\\n    return \\\"\\\".join(result).lstrip(\\\"0\\\")\\n\\n\\nassert add_str_nums(\\\"4\\\", \\\"5\\\") == \\\"9\\\"\\nassert add_str_nums(\\\"abcdefg\\\", \\\"3\\\") == \\\"-1\\\"\\nassert add_str_nums(\\\"1\\\", \\\"\\\") == \\\"1\\\"\\nassert (\\n    add_str_nums(\\\"1874682736267235927359283579235789257\\\", \\\"32652983572985729\\\")\\n    == \\\"1874682736267235927391936562808774986\\\"\\n)\\nassert add_str_nums(\\\"9999\\\", \\\"5\\\") == \\\"10004\\\"\";\n",
       "                var nbb_cells = Jupyter.notebook.get_cells();\n",
       "                for (var i = 0; i < nbb_cells.length; ++i) {\n",
       "                    if (nbb_cells[i].input_prompt_number == nbb_cell_id) {\n",
       "                        if (nbb_cells[i].get_text() == nbb_unformatted_code) {\n",
       "                             nbb_cells[i].set_text(nbb_formatted_code);\n",
       "                        }\n",
       "                        break;\n",
       "                    }\n",
       "                }\n",
       "            }, 500);\n",
       "            "
      ],
      "text/plain": [
       "<IPython.core.display.Javascript object>"
      ]
     },
     "metadata": {},
     "output_type": "display_data"
    }
   ],
   "source": [
    "def add_str_nums(no1, no2):\n",
    "    if no2 == \"\":\n",
    "        if no1.isnumeric() is False:\n",
    "            return \"-1\"\n",
    "        else:\n",
    "            return no1\n",
    "    elif no1 == \"\":\n",
    "        if no2.isnumeric() is False:\n",
    "            return \"-1\"\n",
    "        else:\n",
    "            return no2\n",
    "    if no1.isnumeric() is False or no2.isnumeric() is False:\n",
    "        return \"-1\"\n",
    "    no1 = no1.lstrip(\"0\")\n",
    "    no2 = no2.lstrip(\"0\")\n",
    "    if len(no1) < len(no2):\n",
    "        no1, no2 = no2, no1\n",
    "    l = [0] + [\n",
    "        x[0] + x[1]\n",
    "        for x in zip(\n",
    "            [int(x) for x in no1],\n",
    "            [0] * (len(no1) - len(no2)) + [int(x) for x in no2],\n",
    "        )\n",
    "    ]\n",
    "    result = [\"\"] * (len(l))\n",
    "    carry = 0\n",
    "    for i in range(len(l) - 1, -1, -1):\n",
    "        l[i] += carry\n",
    "        result[i] = str(l[i] % 10)\n",
    "        carry = l[i] // 10\n",
    "    return \"\".join(result).lstrip(\"0\")\n",
    "\n",
    "\n",
    "assert add_str_nums(\"4\", \"5\") == \"9\"\n",
    "assert add_str_nums(\"abcdefg\", \"3\") == \"-1\"\n",
    "assert add_str_nums(\"1\", \"\") == \"1\"\n",
    "assert (\n",
    "    add_str_nums(\"1874682736267235927359283579235789257\", \"32652983572985729\")\n",
    "    == \"1874682736267235927391936562808774986\"\n",
    ")\n",
    "assert add_str_nums(\"9999\", \"5\") == \"10004\""
   ]
  },
  {
   "cell_type": "code",
   "execution_count": 86,
   "metadata": {},
   "outputs": [
    {
     "data": {
      "application/javascript": [
       "\n",
       "            setTimeout(function() {\n",
       "                var nbb_cell_id = 86;\n",
       "                var nbb_unformatted_code = \"# 9. Inmultirea matricilor.\\n# Conditia este ca numarul de coloane din prima matrice sa fie egal cu numarul de linii din cea de-a doua.\\n# Ca rezultat al inmultirii veti genera o noua matrice care are acelasi numar de linii ca si prima matrice\\n# si acelasi numar de coloane ca cea de-a doua.\\n#\\n# De exemplu daca inmultiti o matrice n x k cu una k x m , veti obtine una de dimensiuni n x m.\\n#\\n# Creati o functie care primeste doua liste bidimensionale, m1 si m2 ca argumente, si intoarce o matrice sub\\n# forma de lista bidimensionala.\\n#\\n# Daca numarul de coloane din prima matrice nu este egal cu numarul de linii din cea de-a doua se va intoarce\\n# \\\"eroare\\\".\\n# De exemplu:\\n\\n# multiply_matrix([\\n#  [1, 2, 3],\\n#  [4, 5, 6],\\n#  [7, 8, 9]\\n# ], [\\n#  [1, 2, 3],\\n#  [4, 5, 6],\\n#  [7, 8, 9]\\n# ]) \\u279e [\\n#  [30, 36, 42],\\n#  [66, 81, 96],\\n#  [102, 126, 150]\\n# ]\\n#\\n# Veti verifica rezultatul obtinut folosind numpy. Mai departe veti genera aleator astfel de matrici pe care\\n# le veti verifica cu numpy.\";\n",
       "                var nbb_formatted_code = \"# 9. Inmultirea matricilor.\\n# Conditia este ca numarul de coloane din prima matrice sa fie egal cu numarul de linii din cea de-a doua.\\n# Ca rezultat al inmultirii veti genera o noua matrice care are acelasi numar de linii ca si prima matrice\\n# si acelasi numar de coloane ca cea de-a doua.\\n#\\n# De exemplu daca inmultiti o matrice n x k cu una k x m , veti obtine una de dimensiuni n x m.\\n#\\n# Creati o functie care primeste doua liste bidimensionale, m1 si m2 ca argumente, si intoarce o matrice sub\\n# forma de lista bidimensionala.\\n#\\n# Daca numarul de coloane din prima matrice nu este egal cu numarul de linii din cea de-a doua se va intoarce\\n# \\\"eroare\\\".\\n# De exemplu:\\n\\n# multiply_matrix([\\n#  [1, 2, 3],\\n#  [4, 5, 6],\\n#  [7, 8, 9]\\n# ], [\\n#  [1, 2, 3],\\n#  [4, 5, 6],\\n#  [7, 8, 9]\\n# ]) \\u279e [\\n#  [30, 36, 42],\\n#  [66, 81, 96],\\n#  [102, 126, 150]\\n# ]\\n#\\n# Veti verifica rezultatul obtinut folosind numpy. Mai departe veti genera aleator astfel de matrici pe care\\n# le veti verifica cu numpy.\";\n",
       "                var nbb_cells = Jupyter.notebook.get_cells();\n",
       "                for (var i = 0; i < nbb_cells.length; ++i) {\n",
       "                    if (nbb_cells[i].input_prompt_number == nbb_cell_id) {\n",
       "                        if (nbb_cells[i].get_text() == nbb_unformatted_code) {\n",
       "                             nbb_cells[i].set_text(nbb_formatted_code);\n",
       "                        }\n",
       "                        break;\n",
       "                    }\n",
       "                }\n",
       "            }, 500);\n",
       "            "
      ],
      "text/plain": [
       "<IPython.core.display.Javascript object>"
      ]
     },
     "metadata": {},
     "output_type": "display_data"
    }
   ],
   "source": [
    "# 9. Inmultirea matricilor.\n",
    "# Conditia este ca numarul de coloane din prima matrice sa fie egal cu numarul de linii din cea de-a doua.\n",
    "# Ca rezultat al inmultirii veti genera o noua matrice care are acelasi numar de linii ca si prima matrice\n",
    "# si acelasi numar de coloane ca cea de-a doua.\n",
    "#\n",
    "# De exemplu daca inmultiti o matrice n x k cu una k x m , veti obtine una de dimensiuni n x m.\n",
    "#\n",
    "# Creati o functie care primeste doua liste bidimensionale, m1 si m2 ca argumente, si intoarce o matrice sub\n",
    "# forma de lista bidimensionala.\n",
    "#\n",
    "# Daca numarul de coloane din prima matrice nu este egal cu numarul de linii din cea de-a doua se va intoarce\n",
    "# \"eroare\".\n",
    "# De exemplu:\n",
    "\n",
    "# multiply_matrix([\n",
    "#  [1, 2, 3],\n",
    "#  [4, 5, 6],\n",
    "#  [7, 8, 9]\n",
    "# ], [\n",
    "#  [1, 2, 3],\n",
    "#  [4, 5, 6],\n",
    "#  [7, 8, 9]\n",
    "# ]) ➞ [\n",
    "#  [30, 36, 42],\n",
    "#  [66, 81, 96],\n",
    "#  [102, 126, 150]\n",
    "# ]\n",
    "#\n",
    "# Veti verifica rezultatul obtinut folosind numpy. Mai departe veti genera aleator astfel de matrici pe care\n",
    "# le veti verifica cu numpy."
   ]
  },
  {
   "cell_type": "code",
   "execution_count": 316,
   "metadata": {},
   "outputs": [
    {
     "data": {
      "application/javascript": [
       "\n",
       "            setTimeout(function() {\n",
       "                var nbb_cell_id = 316;\n",
       "                var nbb_unformatted_code = \"def multiply_matrix(mat1, mat2):\\n    if mat1.shape[1] != mat2.shape[0]:\\n        return \\\"Error!\\\"\\n    trans2 = mat2.transpose()\\n    #     result = np.zeros((mat1.shape[0], mat2.shape[1]))\\n    #         for i in range(0, mat1.shape[0]):\\n    #             for j in range(0, trans2.shape[0]):\\n    #                 result[i, j] = np.sum(mat1[i] * trans2[j])\\n    result = np.array(\\n        [\\n            [np.sum(mat1[i] * trans2[j]) for j in range(0, trans2.shape[0])]\\n            for i in range(0, mat1.shape[0])\\n        ]\\n    )\\n    return result\\n\\n\\nmat = np.array([[1, 2, 3], [4, 5, 6], [7, 8, 9]])\\nassert np.allclose(multiply_matrix(mat, mat), mat @ mat)\";\n",
       "                var nbb_formatted_code = \"def multiply_matrix(mat1, mat2):\\n    if mat1.shape[1] != mat2.shape[0]:\\n        return \\\"Error!\\\"\\n    trans2 = mat2.transpose()\\n    #     result = np.zeros((mat1.shape[0], mat2.shape[1]))\\n    #         for i in range(0, mat1.shape[0]):\\n    #             for j in range(0, trans2.shape[0]):\\n    #                 result[i, j] = np.sum(mat1[i] * trans2[j])\\n    result = np.array(\\n        [\\n            [np.sum(mat1[i] * trans2[j]) for j in range(0, trans2.shape[0])]\\n            for i in range(0, mat1.shape[0])\\n        ]\\n    )\\n    return result\\n\\n\\nmat = np.array([[1, 2, 3], [4, 5, 6], [7, 8, 9]])\\nassert np.allclose(multiply_matrix(mat, mat), mat @ mat)\";\n",
       "                var nbb_cells = Jupyter.notebook.get_cells();\n",
       "                for (var i = 0; i < nbb_cells.length; ++i) {\n",
       "                    if (nbb_cells[i].input_prompt_number == nbb_cell_id) {\n",
       "                        if (nbb_cells[i].get_text() == nbb_unformatted_code) {\n",
       "                             nbb_cells[i].set_text(nbb_formatted_code);\n",
       "                        }\n",
       "                        break;\n",
       "                    }\n",
       "                }\n",
       "            }, 500);\n",
       "            "
      ],
      "text/plain": [
       "<IPython.core.display.Javascript object>"
      ]
     },
     "metadata": {},
     "output_type": "display_data"
    }
   ],
   "source": [
    "def multiply_matrix(mat1, mat2):\n",
    "    if mat1.shape[1] != mat2.shape[0]:\n",
    "        return \"Error!\"\n",
    "    trans2 = mat2.transpose()\n",
    "    #     result = np.zeros((mat1.shape[0], mat2.shape[1]))\n",
    "    #         for i in range(0, mat1.shape[0]):\n",
    "    #             for j in range(0, trans2.shape[0]):\n",
    "    #                 result[i, j] = np.sum(mat1[i] * trans2[j])\n",
    "    result = np.array(\n",
    "        [\n",
    "            [np.sum(mat1[i] * trans2[j]) for j in range(0, trans2.shape[0])]\n",
    "            for i in range(0, mat1.shape[0])\n",
    "        ]\n",
    "    )\n",
    "    return result\n",
    "\n",
    "\n",
    "mat = np.array([[1, 2, 3], [4, 5, 6], [7, 8, 9]])\n",
    "assert np.allclose(multiply_matrix(mat, mat), mat @ mat)"
   ]
  },
  {
   "cell_type": "code",
   "execution_count": 321,
   "metadata": {},
   "outputs": [
    {
     "data": {
      "application/javascript": [
       "\n",
       "            setTimeout(function() {\n",
       "                var nbb_cell_id = 321;\n",
       "                var nbb_unformatted_code = \"n, k, m = np.random.randint(1, 10, 3)\\nmat1 = np.random.randn(n, k)\\nmat2 = np.random.randn(k, m)\\n# print(n, k, m)\\n# print(multiply_matrix(mat1, mat2))\\n# print(mat1 @ mat2)\\nassert np.allclose(multiply_matrix(mat1, mat2), mat1 @ mat2)\";\n",
       "                var nbb_formatted_code = \"n, k, m = np.random.randint(1, 10, 3)\\nmat1 = np.random.randn(n, k)\\nmat2 = np.random.randn(k, m)\\n# print(n, k, m)\\n# print(multiply_matrix(mat1, mat2))\\n# print(mat1 @ mat2)\\nassert np.allclose(multiply_matrix(mat1, mat2), mat1 @ mat2)\";\n",
       "                var nbb_cells = Jupyter.notebook.get_cells();\n",
       "                for (var i = 0; i < nbb_cells.length; ++i) {\n",
       "                    if (nbb_cells[i].input_prompt_number == nbb_cell_id) {\n",
       "                        if (nbb_cells[i].get_text() == nbb_unformatted_code) {\n",
       "                             nbb_cells[i].set_text(nbb_formatted_code);\n",
       "                        }\n",
       "                        break;\n",
       "                    }\n",
       "                }\n",
       "            }, 500);\n",
       "            "
      ],
      "text/plain": [
       "<IPython.core.display.Javascript object>"
      ]
     },
     "metadata": {},
     "output_type": "display_data"
    }
   ],
   "source": [
    "n, k, m = np.random.randint(1, 10, 3)\n",
    "mat1 = np.random.randn(n, k)\n",
    "mat2 = np.random.randn(k, m)\n",
    "# print(n, k, m)\n",
    "# print(multiply_matrix(mat1, mat2))\n",
    "# print(mat1 @ mat2)\n",
    "assert np.allclose(multiply_matrix(mat1, mat2), mat1 @ mat2)"
   ]
  }
 ],
 "metadata": {
  "kernelspec": {
   "display_name": "Python 3",
   "language": "python",
   "name": "python3"
  },
  "language_info": {
   "codemirror_mode": {
    "name": "ipython",
    "version": 3
   },
   "file_extension": ".py",
   "mimetype": "text/x-python",
   "name": "python",
   "nbconvert_exporter": "python",
   "pygments_lexer": "ipython3",
   "version": "3.8.5"
  }
 },
 "nbformat": 4,
 "nbformat_minor": 2
}
