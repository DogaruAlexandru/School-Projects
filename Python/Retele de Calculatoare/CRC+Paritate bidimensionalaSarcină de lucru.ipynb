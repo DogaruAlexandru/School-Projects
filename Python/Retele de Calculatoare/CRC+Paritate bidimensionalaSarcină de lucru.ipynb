{
 "cells": [
  {
   "cell_type": "markdown",
   "id": "surprised-button",
   "metadata": {},
   "source": [
    "# Paritate bidimensionala"
   ]
  },
  {
   "cell_type": "code",
   "execution_count": 68,
   "id": "corporate-economics",
   "metadata": {},
   "outputs": [
    {
     "name": "stdout",
     "output_type": "stream",
     "text": [
      "10111011\n",
      "00110011\n",
      "00011000\n",
      "1001000\n",
      "\n",
      "1011101100110011000110001001000\n"
     ]
    }
   ],
   "source": [
    "def send_message(m):\n",
    "    if len(m) % 7 != 0:\n",
    "        raise Exception(\"Imput not valid!\")\n",
    "    for x in m:\n",
    "        if x != \"0\" and x != \"1\":\n",
    "            raise Exception(\"Imput not valid!\")\n",
    "\n",
    "    l = [m[0 + i : 7 + i] for i in range(0, len(m), 7)]\n",
    "    l = [x + \"1\" if x.count(\"1\") % 2 else x + \"0\" for x in l]\n",
    "    l = l + [\"\".join([\"1\" if (\"\".join([l[j][i] for j in range(len(l))]).count(\"1\") % 2) else \"0\" for i in range(7)])]\n",
    "    return (\"\\n\".join(l), \"\".join(l))\n",
    "\n",
    "\n",
    "t = send_message(\"101110100110010001100\")\n",
    "print(t[0])\n",
    "print(\"\\n\" + t[1])"
   ]
  },
  {
   "cell_type": "markdown",
   "id": "appreciated-cruise",
   "metadata": {},
   "source": [
    "# CRC"
   ]
  },
  {
   "cell_type": "code",
   "execution_count": 69,
   "id": "nervous-covering",
   "metadata": {},
   "outputs": [],
   "source": [
    "import numpy as np"
   ]
  },
  {
   "cell_type": "code",
   "execution_count": 70,
   "id": "different-cleanup",
   "metadata": {},
   "outputs": [],
   "source": [
    "def validate(m, c):\n",
    "    if not c[0] == c[-1] == \"1\":\n",
    "        raise Exception(\"Imput not valid!\")\n",
    "    for x in m:\n",
    "        if x != \"0\" and x != \"1\":\n",
    "            raise Exception(\"Imput not valid!\")\n",
    "    for x in c:\n",
    "        if x != \"0\" and x != \"1\":\n",
    "            raise Exception(\"Imput not valid!\")"
   ]
  },
  {
   "cell_type": "code",
   "execution_count": 71,
   "id": "bulgarian-rates",
   "metadata": {},
   "outputs": [],
   "source": [
    "def CRC_source(m, c):\n",
    "    validate(m, c)\n",
    "    \n",
    "    t = m + (\"0\" * (len(c) - 1))\n",
    "    r = t\n",
    "    while len(r) >= len(c):\n",
    "        r = (\"\".join([str(int(r[i]) ^ int(c[i])) for i in range(len(c))]) + r[len(c) :]).lstrip(\"0\")\n",
    "\n",
    "    if len(r) != 0:\n",
    "        return t[: -(len(r))] + r\n",
    "    else:\n",
    "        return t"
   ]
  },
  {
   "cell_type": "code",
   "execution_count": 75,
   "id": "verbal-powder",
   "metadata": {},
   "outputs": [],
   "source": [
    "def make_error(m):\n",
    "    i = np.random.randint(len(m))\n",
    "\n",
    "    return m[:i] + str((int(m[i]) + 1) % 2) + m[i + 1 :]"
   ]
  },
  {
   "cell_type": "code",
   "execution_count": 78,
   "id": "exposed-interim",
   "metadata": {},
   "outputs": [],
   "source": [
    "def CRC_destination(m, c):\n",
    "    validate(m, c)\n",
    "\n",
    "    while len(m) >= len(c):\n",
    "        m = (\"\".join([str(int(m[i]) ^ int(c[i])) for i in range(len(c))]) + m[len(c) :]).lstrip(\"0\")\n",
    "\n",
    "    if len(m) == 0:\n",
    "        print(\"Code transmitted correctly!\")\n",
    "    else:\n",
    "        print(\"Code transmitted incorrectly!\")"
   ]
  },
  {
   "cell_type": "code",
   "execution_count": 79,
   "id": "iraqi-flood",
   "metadata": {
    "scrolled": true
   },
   "outputs": [
    {
     "name": "stdout",
     "output_type": "stream",
     "text": [
      "1010\n",
      "Code transmitted correctly!\n",
      "Code transmitted incorrectly!\n",
      "Code transmitted incorrectly!\n"
     ]
    }
   ],
   "source": [
    "m = \"101\"\n",
    "c = \"11\"\n",
    "\n",
    "CRC_destination(CRC_source(m, c), c)\n",
    "CRC_destination(make_error(CRC_source(m, c)), c)\n",
    "CRC_destination(make_error(CRC_source(m, c)), c)"
   ]
  }
 ],
 "metadata": {
  "kernelspec": {
   "display_name": "Python 3",
   "language": "python",
   "name": "python3"
  },
  "language_info": {
   "codemirror_mode": {
    "name": "ipython",
    "version": 3
   },
   "file_extension": ".py",
   "mimetype": "text/x-python",
   "name": "python",
   "nbconvert_exporter": "python",
   "pygments_lexer": "ipython3",
   "version": "3.8.8"
  }
 },
 "nbformat": 4,
 "nbformat_minor": 5
}
